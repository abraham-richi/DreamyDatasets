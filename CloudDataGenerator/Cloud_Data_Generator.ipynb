{
 "cells": [
  {
   "cell_type": "code",
   "execution_count": 1,
   "metadata": {},
   "outputs": [],
   "source": [
    "import random\n",
    "import numpy as np\n",
    "import pandas as pd\n",
    "import matplotlib.pyplot as plt\n",
    "from mpl_toolkits.mplot3d import Axes3D"
   ]
  },
  {
   "cell_type": "code",
   "execution_count": 2,
   "metadata": {
    "tags": []
   },
   "outputs": [],
   "source": [
    "def clouds_single_axis(cloud_no=2, n=1200, stretch=0.5, split_dist=10):\n",
    "    # generate n random points\n",
    "    x = np.random.randn(n)\n",
    "    # divide into number of arrays representing each cloud\n",
    "    x = [x[i:i + int(n/cloud_no)] for i in range(0, n, int(n/cloud_no))]\n",
    "    # transform arrays so that clouds are distinct\n",
    "    x = np.matmul(np.diag(((np.random.randint(2, size=cloud_no)*2)-1)*stretch), x)\n",
    "    x = np.array([x[i] + ((np.repeat(np.random.rand(1), int(n/cloud_no))*2)-1)*split_dist for i in range(0, cloud_no)])\n",
    "    return(np.squeeze(x.reshape((1,n))))\n",
    "\n",
    "def clouds_multi_axis(cloud_no=2, naxs=3, n=1200, stretch_par=[1, 1, 1], dist_par=[5, 5, 5]):\n",
    "    # define a permutation for the generated axis\n",
    "    arr = np.random.permutation(range(0, n))\n",
    "    # extract each axis and apply permutation\n",
    "    output = []\n",
    "    for i in range(0, naxs):\n",
    "        gen = clouds_single_axis(cloud_no=cloud_no, n=n,\n",
    "                                        stretch=stretch_par[i],\n",
    "                                        split_dist=dist_par[i])\n",
    "        output.append(gen[arr])\n",
    "    return(np.array(output))"
   ]
  },
  {
   "cell_type": "code",
   "execution_count": null,
   "metadata": {},
   "outputs": [],
   "source": [
    "t = clouds_multi_axis(cloud_no=3, n=12000)\n",
    "\n",
    "fig = plt.figure()\n",
    "ax = Axes3D(fig)\n",
    "\n",
    "ax.scatter(t[0][:1000], t[1][:1000], t[2][:1000], alpha=0.4, s=10)\n",
    "ax.scatter(np.mean(t[0]), np.mean(t[1]), np.mean([2]), color='red', s=100, alpha=0.9)"
   ]
  },
  {
   "cell_type": "code",
   "execution_count": null,
   "metadata": {},
   "outputs": [],
   "source": [
    "plt.savefig('cloud_default_test.png')"
   ]
  },
  {
   "cell_type": "code",
   "execution_count": null,
   "metadata": {},
   "outputs": [],
   "source": [
    "X = np.array(t).T"
   ]
  },
  {
   "cell_type": "code",
   "execution_count": null,
   "metadata": {},
   "outputs": [],
   "source": [
    "f = open(\"cloud_default_test.csv\", \"w+\")"
   ]
  },
  {
   "cell_type": "code",
   "execution_count": null,
   "metadata": {},
   "outputs": [],
   "source": [
    "X = pd.DataFrame(X, columns=('x', 'y', 'z'))"
   ]
  },
  {
   "cell_type": "code",
   "execution_count": null,
   "metadata": {},
   "outputs": [],
   "source": [
    "X.to_csv(\"cloud_default_test.csv\", index=False)"
   ]
  },
  {
   "cell_type": "code",
   "execution_count": null,
   "metadata": {},
   "outputs": [],
   "source": [
    "f.close()"
   ]
  }
 ],
 "metadata": {
  "kernelspec": {
   "display_name": "Python 3",
   "language": "python",
   "name": "python3"
  },
  "language_info": {
   "codemirror_mode": {
    "name": "ipython",
    "version": 3
   },
   "file_extension": ".py",
   "mimetype": "text/x-python",
   "name": "python",
   "nbconvert_exporter": "python",
   "pygments_lexer": "ipython3",
   "version": "3.7.6"
  }
 },
 "nbformat": 4,
 "nbformat_minor": 4
}
